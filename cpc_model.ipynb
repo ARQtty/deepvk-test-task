{
 "cells": [
  {
   "cell_type": "code",
   "execution_count": 1,
   "metadata": {},
   "outputs": [],
   "source": [
    "import os\n",
    "from datetime import datetime as dt\n",
    "from random import randint\n",
    "from collections import defaultdict\n",
    "import matplotlib.pyplot as plt\n",
    "%matplotlib inline\n",
    "plt.style.use('dark_background')\n",
    "\n",
    "import torchaudio\n",
    "import torch\n",
    "import torch.nn as nn\n",
    "import torch.nn.functional as F\n",
    "from sklearn.model_selection import train_test_split\n",
    "from tensorboardX import SummaryWriter\n",
    "\n",
    "from hparams import Hparam\n",
    "from data.dataset import SpeechDataset\n",
    "from CPC.model import CPCModel\n",
    "from speaker_cpc_model import SpeakerClassificationCPC"
   ]
  },
  {
   "cell_type": "code",
   "execution_count": 2,
   "metadata": {},
   "outputs": [],
   "source": [
    "config = Hparam('./CPC/config.yaml')\n",
    "# config.train.device = 'cpu'\n",
    "gettime = lambda: str(dt.time(dt.now()))[:8]"
   ]
  },
  {
   "cell_type": "markdown",
   "metadata": {},
   "source": [
    "## workbench"
   ]
  },
  {
   "cell_type": "markdown",
   "metadata": {},
   "source": [
    "## model"
   ]
  },
  {
   "cell_type": "code",
   "execution_count": 3,
   "metadata": {},
   "outputs": [
    {
     "name": "stderr",
     "output_type": "stream",
     "text": [
      "100%|██████████| 2703/2703 [00:05<00:00, 529.05it/s]\n"
     ]
    }
   ],
   "source": [
    "ds = SpeechDataset(config.data.path)\n",
    "train_ds, test_ds = train_test_split(ds, test_size=0.2)"
   ]
  },
  {
   "cell_type": "code",
   "execution_count": 5,
   "metadata": {},
   "outputs": [],
   "source": [
    "batch_size = 11\n",
    "train_dl = torch.utils.data.DataLoader(train_ds, batch_size=batch_size, shuffle=True)\n",
    "test_dl = torch.utils.data.DataLoader(test_ds, batch_size=batch_size, shuffle=True, drop_last=True)\n",
    "writer = SummaryWriter()\n",
    "train_step = 0\n",
    "test_step =  0\n",
    "\n",
    "model_cpc = CPCModel(config).to(config.train.device)\n",
    "model = SpeakerClassificationCPC(model_cpc, 512, ds.n_speakers).to(config.train.device)\n",
    "model.load_cpc_checkpoint('checkpoints/cpc_model_35_epoch.pt')\n",
    "\n",
    "opt = torch.optim.Adadelta(model.parameters())\n",
    "criterion = torch.nn.CrossEntropyLoss()"
   ]
  },
  {
   "cell_type": "code",
   "execution_count": 7,
   "metadata": {},
   "outputs": [
    {
     "name": "stdout",
     "output_type": "stream",
     "text": [
      "epoch 1\n",
      "  train\n",
      "  test\n",
      "epoch 2\n",
      "  train\n",
      "  test\n",
      "epoch 3\n",
      "  train\n",
      "  test\n",
      "epoch 4\n",
      "  train\n",
      "  test\n",
      "epoch 5\n",
      "  train\n",
      "  test\n",
      "epoch 6\n",
      "  train\n",
      "  test\n",
      "epoch 7\n",
      "  train\n",
      "  test\n",
      "epoch 8\n",
      "  train\n",
      "  test\n",
      "epoch 9\n",
      "  train\n",
      "  test\n",
      "epoch 10\n",
      "  train\n",
      "  test\n",
      "epoch 11\n",
      "  train\n"
     ]
    },
    {
     "ename": "KeyboardInterrupt",
     "evalue": "",
     "output_type": "error",
     "traceback": [
      "\u001b[0;31m---------------------------------------------------------------------------\u001b[0m",
      "\u001b[0;31mKeyboardInterrupt\u001b[0m                         Traceback (most recent call last)",
      "\u001b[0;32m<ipython-input-7-9d858bc8a6fb>\u001b[0m in \u001b[0;36m<module>\u001b[0;34m()\u001b[0m\n\u001b[1;32m     15\u001b[0m         \u001b[0mopt\u001b[0m\u001b[0;34m.\u001b[0m\u001b[0mstep\u001b[0m\u001b[0;34m(\u001b[0m\u001b[0;34m)\u001b[0m\u001b[0;34m\u001b[0m\u001b[0;34m\u001b[0m\u001b[0m\n\u001b[1;32m     16\u001b[0m \u001b[0;34m\u001b[0m\u001b[0m\n\u001b[0;32m---> 17\u001b[0;31m         \u001b[0mwriter\u001b[0m\u001b[0;34m.\u001b[0m\u001b[0madd_scalar\u001b[0m\u001b[0;34m(\u001b[0m\u001b[0;34m'loss/train'\u001b[0m\u001b[0;34m,\u001b[0m \u001b[0mloss\u001b[0m\u001b[0;34m.\u001b[0m\u001b[0mitem\u001b[0m\u001b[0;34m(\u001b[0m\u001b[0;34m)\u001b[0m\u001b[0;34m,\u001b[0m \u001b[0mtrain_step\u001b[0m\u001b[0;34m)\u001b[0m\u001b[0;34m\u001b[0m\u001b[0;34m\u001b[0m\u001b[0m\n\u001b[0m\u001b[1;32m     18\u001b[0m         \u001b[0mwriter\u001b[0m\u001b[0;34m.\u001b[0m\u001b[0madd_scalar\u001b[0m\u001b[0;34m(\u001b[0m\u001b[0;34m'accuracy/train'\u001b[0m\u001b[0;34m,\u001b[0m \u001b[0mSpeakerClassificationCPC\u001b[0m\u001b[0;34m.\u001b[0m\u001b[0mget_acc\u001b[0m\u001b[0;34m(\u001b[0m\u001b[0mlogits\u001b[0m\u001b[0;34m,\u001b[0m \u001b[0mspeakers\u001b[0m\u001b[0;34m)\u001b[0m\u001b[0;34m.\u001b[0m\u001b[0mitem\u001b[0m\u001b[0;34m(\u001b[0m\u001b[0;34m)\u001b[0m\u001b[0;34m,\u001b[0m \u001b[0mtrain_step\u001b[0m\u001b[0;34m)\u001b[0m\u001b[0;34m\u001b[0m\u001b[0;34m\u001b[0m\u001b[0m\n\u001b[1;32m     19\u001b[0m \u001b[0;34m\u001b[0m\u001b[0m\n",
      "\u001b[0;31mKeyboardInterrupt\u001b[0m: "
     ]
    }
   ],
   "source": [
    "for e in range(1, 20):\n",
    "    print('epoch %d' % e)\n",
    "    print('  train')\n",
    "    for batch in train_dl:\n",
    "        opt.zero_grad()\n",
    "\n",
    "        speakers, utters = batch\n",
    "        #speakers = F.one_hot(speakers, num_classes=ds.n_speakers).to(config.train.device)\n",
    "        speakers = speakers.long().to(config.train.device)\n",
    "        logits = model(utters.unsqueeze(1).to(config.train.device))\n",
    "        logits = logits.squeeze(0)\n",
    "        loss = criterion(logits, speakers)\n",
    "\n",
    "        loss.backward()\n",
    "        opt.step()\n",
    "\n",
    "        writer.add_scalar('loss/train', loss.item(), train_step)\n",
    "        writer.add_scalar('accuracy/train', SpeakerClassificationCPC.get_acc(logits, speakers).item(), train_step)\n",
    "        \n",
    "        train_step += 1\n",
    "        \n",
    "        \n",
    "    print('  test')\n",
    "    for batch in test_dl:\n",
    "        with torch.no_grad():\n",
    "            speakers, utters = batch\n",
    "            speakers = speakers.long().to(config.train.device)\n",
    "            logits = model(utters.unsqueeze(1).to(config.train.device))\n",
    "            logits = logits.squeeze(0)\n",
    "            loss = criterion(logits, speakers)\n",
    "\n",
    "            writer.add_scalar('loss/test', loss.item(), test_step)\n",
    "            writer.add_scalar('accuracy/test', SpeakerClassificationCPC.get_acc(logits, speakers).item(), test_step)\n",
    "\n",
    "            test_step += 1"
   ]
  },
  {
   "cell_type": "code",
   "execution_count": null,
   "metadata": {},
   "outputs": [],
   "source": []
  },
  {
   "cell_type": "code",
   "execution_count": 6,
   "metadata": {},
   "outputs": [
    {
     "data": {
      "text/plain": [
       "CPCModel(\n",
       "  (convolutions): Sequential(\n",
       "    (0): Conv1d(1, 512, kernel_size=(10,), stride=(5,), padding=(2,))\n",
       "    (1): ReLU()\n",
       "    (2): BatchNorm1d(512, eps=1e-05, momentum=0.1, affine=True, track_running_stats=True)\n",
       "    (3): Conv1d(512, 512, kernel_size=(8,), stride=(4,), padding=(2,))\n",
       "    (4): ReLU()\n",
       "    (5): BatchNorm1d(512, eps=1e-05, momentum=0.1, affine=True, track_running_stats=True)\n",
       "    (6): Conv1d(512, 512, kernel_size=(4,), stride=(2,), padding=(2,))\n",
       "    (7): ReLU()\n",
       "    (8): BatchNorm1d(512, eps=1e-05, momentum=0.1, affine=True, track_running_stats=True)\n",
       "    (9): Conv1d(512, 512, kernel_size=(4,), stride=(2,), padding=(2,))\n",
       "    (10): ReLU()\n",
       "    (11): BatchNorm1d(512, eps=1e-05, momentum=0.1, affine=True, track_running_stats=True)\n",
       "    (12): Conv1d(512, 512, kernel_size=(4,), stride=(2,), padding=(1,))\n",
       "    (13): ReLU()\n",
       "    (14): BatchNorm1d(512, eps=1e-05, momentum=0.1, affine=True, track_running_stats=True)\n",
       "  )\n",
       "  (autoregressor): GRU(512, 256, batch_first=True)\n",
       "  (coupling_transforms): ModuleList(\n",
       "    (0): Sequential(\n",
       "      (0): Conv1d(512, 512, kernel_size=(1,), stride=(1,))\n",
       "    )\n",
       "    (1): Sequential(\n",
       "      (0): Conv1d(512, 512, kernel_size=(1,), stride=(1,))\n",
       "    )\n",
       "    (2): Sequential(\n",
       "      (0): Conv1d(512, 512, kernel_size=(1,), stride=(1,))\n",
       "    )\n",
       "    (3): Sequential(\n",
       "      (0): Conv1d(512, 512, kernel_size=(1,), stride=(1,))\n",
       "    )\n",
       "    (4): Sequential(\n",
       "      (0): Conv1d(512, 512, kernel_size=(1,), stride=(1,))\n",
       "    )\n",
       "    (5): Sequential(\n",
       "      (0): Conv1d(512, 512, kernel_size=(1,), stride=(1,))\n",
       "    )\n",
       "    (6): Sequential(\n",
       "      (0): Conv1d(512, 512, kernel_size=(1,), stride=(1,))\n",
       "    )\n",
       "    (7): Sequential(\n",
       "      (0): Conv1d(512, 512, kernel_size=(1,), stride=(1,))\n",
       "    )\n",
       "    (8): Sequential(\n",
       "      (0): Conv1d(512, 512, kernel_size=(1,), stride=(1,))\n",
       "    )\n",
       "    (9): Sequential(\n",
       "      (0): Conv1d(512, 512, kernel_size=(1,), stride=(1,))\n",
       "    )\n",
       "    (10): Sequential(\n",
       "      (0): Conv1d(512, 512, kernel_size=(1,), stride=(1,))\n",
       "    )\n",
       "    (11): Sequential(\n",
       "      (0): Conv1d(512, 512, kernel_size=(1,), stride=(1,))\n",
       "    )\n",
       "  )\n",
       ")"
      ]
     },
     "execution_count": 6,
     "metadata": {},
     "output_type": "execute_result"
    }
   ],
   "source": [
    "model.cpc_model.requires_grad_(True)"
   ]
  },
  {
   "cell_type": "code",
   "execution_count": null,
   "metadata": {},
   "outputs": [],
   "source": [
    "model.load_state_dict(torch.load('speakers_clf.pt'))"
   ]
  },
  {
   "cell_type": "code",
   "execution_count": null,
   "metadata": {},
   "outputs": [],
   "source": []
  }
 ],
 "metadata": {
  "kernelspec": {
   "display_name": "Python 3",
   "language": "python",
   "name": "python3"
  },
  "language_info": {
   "codemirror_mode": {
    "name": "ipython",
    "version": 3
   },
   "file_extension": ".py",
   "mimetype": "text/x-python",
   "name": "python",
   "nbconvert_exporter": "python",
   "pygments_lexer": "ipython3",
   "version": "3.6.9"
  }
 },
 "nbformat": 4,
 "nbformat_minor": 4
}
