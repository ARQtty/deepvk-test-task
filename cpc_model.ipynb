{
 "cells": [
  {
   "cell_type": "code",
   "execution_count": 1,
   "metadata": {},
   "outputs": [],
   "source": [
    "import os\n",
    "from datetime import datetime as dt\n",
    "from random import randint\n",
    "from collections import defaultdict\n",
    "import matplotlib.pyplot as plt\n",
    "%matplotlib inline\n",
    "plt.style.use('dark_background')\n",
    "\n",
    "import torchaudio\n",
    "import torch\n",
    "import torch.nn as nn\n",
    "import torch.nn.functional as F\n",
    "from sklearn.model_selection import train_test_split\n",
    "from tensorboardX import SummaryWriter\n",
    "\n",
    "from hparams import Hparam\n",
    "from data.dataset import SpeechDataset\n",
    "from CPC.model import CPCModel\n",
    "# from CPC_classifiers.speaker_model import SpeakerClassificationCPC"
   ]
  },
  {
   "cell_type": "code",
   "execution_count": 31,
   "metadata": {},
   "outputs": [],
   "source": [
    "config = Hparam('./CPC/config.yaml')\n",
    "# config.train.device = 'cpu'\n",
    "gettime = lambda: str(dt.time(dt.now()))[:8]"
   ]
  },
  {
   "cell_type": "markdown",
   "metadata": {},
   "source": [
    "## model"
   ]
  },
  {
   "cell_type": "code",
   "execution_count": 32,
   "metadata": {},
   "outputs": [
    {
     "name": "stderr",
     "output_type": "stream",
     "text": [
      "100%|██████████| 2703/2703 [00:06<00:00, 426.78it/s]\n"
     ]
    }
   ],
   "source": [
    "ds = SpeechDataset(config.data.path)\n",
    "train_ds, test_ds = train_test_split(ds, test_size=0.2)"
   ]
  },
  {
   "cell_type": "code",
   "execution_count": 33,
   "metadata": {},
   "outputs": [
    {
     "data": {
      "text/plain": [
       "<All keys matched successfully>"
      ]
     },
     "execution_count": 33,
     "metadata": {},
     "output_type": "execute_result"
    }
   ],
   "source": [
    "model_cpc = CPCModel(config).to(config.train.device)\n",
    "model_cpc.load_state_dict(torch.load('checkpoints/cpc_model_35_epoch.pt', map_location=config.train.device))"
   ]
  },
  {
   "cell_type": "markdown",
   "metadata": {},
   "source": [
    "## experiments"
   ]
  },
  {
   "cell_type": "code",
   "execution_count": 16,
   "metadata": {},
   "outputs": [
    {
     "data": {
      "text/plain": [
       "tensor([[[0.0014, 0.0014, 0.0002,  ..., 0.0060, 0.0050, 0.0033]]],\n",
       "       device='cuda:0')"
      ]
     },
     "execution_count": 16,
     "metadata": {},
     "output_type": "execute_result"
    }
   ],
   "source": [
    "sample = ds[27][1].unsqueeze(0).unsqueeze(0).to(config.train.device)\n",
    "sample"
   ]
  },
  {
   "cell_type": "code",
   "execution_count": 20,
   "metadata": {},
   "outputs": [
    {
     "data": {
      "text/plain": [
       "[torch.Size([1, 128, 256]), torch.Size([1, 1, 256])]"
      ]
     },
     "execution_count": 20,
     "metadata": {},
     "output_type": "execute_result"
    }
   ],
   "source": [
    "out = model_cpc.predict(sample)\n",
    "[t.size() for t in out]"
   ]
  },
  {
   "cell_type": "code",
   "execution_count": null,
   "metadata": {},
   "outputs": [],
   "source": []
  },
  {
   "cell_type": "code",
   "execution_count": null,
   "metadata": {},
   "outputs": [],
   "source": []
  },
  {
   "cell_type": "code",
   "execution_count": null,
   "metadata": {},
   "outputs": [],
   "source": []
  },
  {
   "cell_type": "code",
   "execution_count": null,
   "metadata": {},
   "outputs": [],
   "source": []
  },
  {
   "cell_type": "markdown",
   "metadata": {},
   "source": [
    "## workbench"
   ]
  },
  {
   "cell_type": "code",
   "execution_count": null,
   "metadata": {},
   "outputs": [],
   "source": []
  },
  {
   "cell_type": "code",
   "execution_count": 19,
   "metadata": {},
   "outputs": [],
   "source": [
    "c = nn.Conv1d(5, 5, kernel_size=1)"
   ]
  },
  {
   "cell_type": "code",
   "execution_count": 20,
   "metadata": {},
   "outputs": [
    {
     "data": {
      "text/plain": [
       "torch.Size([5, 5, 1])"
      ]
     },
     "execution_count": 20,
     "metadata": {},
     "output_type": "execute_result"
    }
   ],
   "source": [
    "c.weight.size()"
   ]
  },
  {
   "cell_type": "code",
   "execution_count": 21,
   "metadata": {},
   "outputs": [],
   "source": [
    "t = torch.Tensor(1, 5, 166)"
   ]
  },
  {
   "cell_type": "code",
   "execution_count": 22,
   "metadata": {},
   "outputs": [
    {
     "data": {
      "text/plain": [
       "torch.Size([1, 5, 166])"
      ]
     },
     "execution_count": 22,
     "metadata": {},
     "output_type": "execute_result"
    }
   ],
   "source": [
    "c(t).size()"
   ]
  },
  {
   "cell_type": "code",
   "execution_count": 30,
   "metadata": {},
   "outputs": [
    {
     "data": {
      "text/plain": [
       "OrderedDict([('weight', tensor([[[ 0.3509],\n",
       "                       [ 0.2020],\n",
       "                       [-0.3632],\n",
       "                       [ 0.0610],\n",
       "                       [-0.0119]],\n",
       "              \n",
       "                      [[ 0.1810],\n",
       "                       [-0.1683],\n",
       "                       [ 0.3941],\n",
       "                       [-0.1763],\n",
       "                       [-0.1956]],\n",
       "              \n",
       "                      [[-0.3396],\n",
       "                       [ 0.3310],\n",
       "                       [-0.2803],\n",
       "                       [ 0.3847],\n",
       "                       [-0.1057]],\n",
       "              \n",
       "                      [[-0.0631],\n",
       "                       [ 0.1442],\n",
       "                       [-0.3527],\n",
       "                       [ 0.4251],\n",
       "                       [-0.0659]],\n",
       "              \n",
       "                      [[-0.4312],\n",
       "                       [-0.0440],\n",
       "                       [ 0.4193],\n",
       "                       [-0.0884],\n",
       "                       [-0.0117]]])),\n",
       "             ('bias',\n",
       "              tensor([4.4219e-01, 1.9525e-02, 5.4102e-02, 3.4477e-01, 1.0365e-04]))])"
      ]
     },
     "execution_count": 30,
     "metadata": {},
     "output_type": "execute_result"
    }
   ],
   "source": [
    "c.state_dict()"
   ]
  },
  {
   "cell_type": "code",
   "execution_count": 34,
   "metadata": {},
   "outputs": [
    {
     "name": "stdout",
     "output_type": "stream",
     "text": [
      "==========================================================================================\n",
      "                                     Kernel Shape    Output Shape     Params  \\\n",
      "Layer                                                                          \n",
      "0_convolutions.Conv1d_0              [1, 512, 10]  [1, 512, 4095]     5.632k   \n",
      "1_convolutions.ReLU_1                           -  [1, 512, 4095]          -   \n",
      "2_convolutions.BatchNorm1d_2                [512]  [1, 512, 4095]     1.024k   \n",
      "3_convolutions.Conv1d_3             [512, 512, 8]  [1, 512, 1023]  2.097664M   \n",
      "4_convolutions.ReLU_4                           -  [1, 512, 1023]          -   \n",
      "5_convolutions.BatchNorm1d_5                [512]  [1, 512, 1023]     1.024k   \n",
      "6_convolutions.Conv1d_6             [512, 512, 4]   [1, 512, 512]  1.049088M   \n",
      "7_convolutions.ReLU_7                           -   [1, 512, 512]          -   \n",
      "8_convolutions.BatchNorm1d_8                [512]   [1, 512, 512]     1.024k   \n",
      "9_convolutions.Conv1d_9             [512, 512, 4]   [1, 512, 257]  1.049088M   \n",
      "10_convolutions.ReLU_10                         -   [1, 512, 257]          -   \n",
      "11_convolutions.BatchNorm1d_11              [512]   [1, 512, 257]     1.024k   \n",
      "12_convolutions.Conv1d_12           [512, 512, 4]   [1, 512, 128]  1.049088M   \n",
      "13_convolutions.ReLU_13                         -   [1, 512, 128]          -   \n",
      "14_convolutions.BatchNorm1d_14              [512]   [1, 512, 128]     1.024k   \n",
      "15_autoregressor                                -   [1, 128, 256]    591.36k   \n",
      "16_coupling_transforms.0.Conv1d_0   [512, 512, 1]   [1, 512, 128]   262.656k   \n",
      "17_coupling_transforms.1.Conv1d_0   [512, 512, 1]   [1, 512, 128]   262.656k   \n",
      "18_coupling_transforms.2.Conv1d_0   [512, 512, 1]   [1, 512, 128]   262.656k   \n",
      "19_coupling_transforms.3.Conv1d_0   [512, 512, 1]   [1, 512, 128]   262.656k   \n",
      "20_coupling_transforms.4.Conv1d_0   [512, 512, 1]   [1, 512, 128]   262.656k   \n",
      "21_coupling_transforms.5.Conv1d_0   [512, 512, 1]   [1, 512, 128]   262.656k   \n",
      "22_coupling_transforms.6.Conv1d_0   [512, 512, 1]   [1, 512, 128]   262.656k   \n",
      "23_coupling_transforms.7.Conv1d_0   [512, 512, 1]   [1, 512, 128]   262.656k   \n",
      "24_coupling_transforms.8.Conv1d_0   [512, 512, 1]   [1, 512, 128]   262.656k   \n",
      "25_coupling_transforms.9.Conv1d_0   [512, 512, 1]   [1, 512, 128]   262.656k   \n",
      "26_coupling_transforms.10.Conv1d_0  [512, 512, 1]   [1, 512, 128]   262.656k   \n",
      "27_coupling_transforms.11.Conv1d_0  [512, 512, 1]   [1, 512, 128]   262.656k   \n",
      "\n",
      "                                       Mult-Adds  \n",
      "Layer                                             \n",
      "0_convolutions.Conv1d_0                 20.9664M  \n",
      "1_convolutions.ReLU_1                          -  \n",
      "2_convolutions.BatchNorm1d_2               512.0  \n",
      "3_convolutions.Conv1d_3             2.145386496G  \n",
      "4_convolutions.ReLU_4                          -  \n",
      "5_convolutions.BatchNorm1d_5               512.0  \n",
      "6_convolutions.Conv1d_6              536.870912M  \n",
      "7_convolutions.ReLU_7                          -  \n",
      "8_convolutions.BatchNorm1d_8               512.0  \n",
      "9_convolutions.Conv1d_9              269.484032M  \n",
      "10_convolutions.ReLU_10                        -  \n",
      "11_convolutions.BatchNorm1d_11             512.0  \n",
      "12_convolutions.Conv1d_12            134.217728M  \n",
      "13_convolutions.ReLU_13                        -  \n",
      "14_convolutions.BatchNorm1d_14             512.0  \n",
      "15_autoregressor                        589.824k  \n",
      "16_coupling_transforms.0.Conv1d_0     33.554432M  \n",
      "17_coupling_transforms.1.Conv1d_0     33.554432M  \n",
      "18_coupling_transforms.2.Conv1d_0     33.554432M  \n",
      "19_coupling_transforms.3.Conv1d_0     33.554432M  \n",
      "20_coupling_transforms.4.Conv1d_0     33.554432M  \n",
      "21_coupling_transforms.5.Conv1d_0     33.554432M  \n",
      "22_coupling_transforms.6.Conv1d_0     33.554432M  \n",
      "23_coupling_transforms.7.Conv1d_0     33.554432M  \n",
      "24_coupling_transforms.8.Conv1d_0     33.554432M  \n",
      "25_coupling_transforms.9.Conv1d_0     33.554432M  \n",
      "26_coupling_transforms.10.Conv1d_0    33.554432M  \n",
      "27_coupling_transforms.11.Conv1d_0    33.554432M  \n",
      "------------------------------------------------------------------------------------------\n",
      "                            Totals\n",
      "Total params             8.998912M\n",
      "Trainable params         8.998912M\n",
      "Non-trainable params           0.0\n",
      "Mult-Adds             3.510171136G\n",
      "==========================================================================================\n"
     ]
    }
   ],
   "source": [
    "model_cpc.get_summary(ds[1][1])"
   ]
  },
  {
   "cell_type": "code",
   "execution_count": 38,
   "metadata": {},
   "outputs": [
    {
     "data": {
      "text/plain": [
       "[torch.Size([1, 128, 256]), torch.Size([1, 1, 256])]"
      ]
     },
     "execution_count": 38,
     "metadata": {},
     "output_type": "execute_result"
    }
   ],
   "source": [
    "out = model_cpc.predict(ds[1][1].unsqueeze(0).unsqueeze(0).cuda())\n",
    "[t.size() for t in out]"
   ]
  },
  {
   "cell_type": "code",
   "execution_count": null,
   "metadata": {},
   "outputs": [],
   "source": []
  },
  {
   "cell_type": "code",
   "execution_count": null,
   "metadata": {},
   "outputs": [],
   "source": []
  }
 ],
 "metadata": {
  "kernelspec": {
   "display_name": "Python 3",
   "language": "python",
   "name": "python3"
  },
  "language_info": {
   "codemirror_mode": {
    "name": "ipython",
    "version": 3
   },
   "file_extension": ".py",
   "mimetype": "text/x-python",
   "name": "python",
   "nbconvert_exporter": "python",
   "pygments_lexer": "ipython3",
   "version": "3.6.9"
  }
 },
 "nbformat": 4,
 "nbformat_minor": 4
}
