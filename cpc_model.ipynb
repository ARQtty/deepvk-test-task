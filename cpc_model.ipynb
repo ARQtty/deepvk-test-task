{
 "cells": [
  {
   "cell_type": "code",
   "execution_count": 107,
   "metadata": {},
   "outputs": [],
   "source": [
    "import os\n",
    "from datetime import datetime as dt\n",
    "from random import randint\n",
    "from collections import defaultdict\n",
    "import matplotlib.pyplot as plt\n",
    "%matplotlib inline\n",
    "plt.style.use('dark_background')\n",
    "\n",
    "import torchaudio\n",
    "import torch\n",
    "import torch.nn as nn\n",
    "import torch.nn.functional as F\n",
    "from tensorboardX import SummaryWriter\n",
    "\n",
    "from hparams import Hparam\n",
    "from data.dataset import SpeechDataset\n",
    "from cpc_model import CPCModel"
   ]
  },
  {
   "cell_type": "code",
   "execution_count": 101,
   "metadata": {},
   "outputs": [],
   "source": [
    "config = Hparam('./cpc_config.yaml')\n",
    "\n",
    "gettime = lambda: str(dt.time(dt.now()))[:8]"
   ]
  },
  {
   "cell_type": "markdown",
   "metadata": {},
   "source": [
    "## workbench"
   ]
  },
  {
   "cell_type": "markdown",
   "metadata": {},
   "source": [
    "## model"
   ]
  },
  {
   "cell_type": "code",
   "execution_count": 25,
   "metadata": {},
   "outputs": [
    {
     "name": "stderr",
     "output_type": "stream",
     "text": [
      "100%|██████████| 28539/28539 [02:00<00:00, 237.25it/s]\n"
     ]
    }
   ],
   "source": [
    "ds = SpeechDataset(config.data.path)"
   ]
  },
  {
   "cell_type": "code",
   "execution_count": 77,
   "metadata": {},
   "outputs": [],
   "source": [
    "model = CPCModel(config).to(config.train.device)"
   ]
  },
  {
   "cell_type": "markdown",
   "metadata": {},
   "source": [
    "# Model summary"
   ]
  },
  {
   "cell_type": "code",
   "execution_count": 78,
   "metadata": {},
   "outputs": [],
   "source": [
    "from torchsummaryX import summary"
   ]
  },
  {
   "cell_type": "code",
   "execution_count": 79,
   "metadata": {},
   "outputs": [
    {
     "name": "stdout",
     "output_type": "stream",
     "text": [
      "==========================================================================================\n",
      "                                     Kernel Shape    Output Shape     Params  \\\n",
      "Layer                                                                          \n",
      "0_convolutions.Conv1d_0              [1, 512, 10]  [1, 512, 4095]     5.632k   \n",
      "1_convolutions.ReLU_1                           -  [1, 512, 4095]          -   \n",
      "2_convolutions.BatchNorm1d_2                [512]  [1, 512, 4095]     1.024k   \n",
      "3_convolutions.Conv1d_3             [512, 512, 8]  [1, 512, 1023]  2.097664M   \n",
      "4_convolutions.ReLU_4                           -  [1, 512, 1023]          -   \n",
      "5_convolutions.BatchNorm1d_5                [512]  [1, 512, 1023]     1.024k   \n",
      "6_convolutions.Conv1d_6             [512, 512, 4]   [1, 512, 512]  1.049088M   \n",
      "7_convolutions.ReLU_7                           -   [1, 512, 512]          -   \n",
      "8_convolutions.BatchNorm1d_8                [512]   [1, 512, 512]     1.024k   \n",
      "9_convolutions.Conv1d_9             [512, 512, 4]   [1, 512, 257]  1.049088M   \n",
      "10_convolutions.ReLU_10                         -   [1, 512, 257]          -   \n",
      "11_convolutions.BatchNorm1d_11              [512]   [1, 512, 257]     1.024k   \n",
      "12_convolutions.Conv1d_12           [512, 512, 4]   [1, 512, 128]  1.049088M   \n",
      "13_convolutions.ReLU_13                         -   [1, 512, 128]          -   \n",
      "14_convolutions.BatchNorm1d_14              [512]   [1, 512, 128]     1.024k   \n",
      "15_autoregressor                                -   [1, 128, 256]    591.36k   \n",
      "16_coupling_transforms.0.Conv1d_0   [512, 512, 1]   [1, 512, 128]   262.656k   \n",
      "17_coupling_transforms.1.Conv1d_0   [512, 512, 1]   [1, 512, 128]   262.656k   \n",
      "18_coupling_transforms.2.Conv1d_0   [512, 512, 1]   [1, 512, 128]   262.656k   \n",
      "19_coupling_transforms.3.Conv1d_0   [512, 512, 1]   [1, 512, 128]   262.656k   \n",
      "20_coupling_transforms.4.Conv1d_0   [512, 512, 1]   [1, 512, 128]   262.656k   \n",
      "21_coupling_transforms.5.Conv1d_0   [512, 512, 1]   [1, 512, 128]   262.656k   \n",
      "22_coupling_transforms.6.Conv1d_0   [512, 512, 1]   [1, 512, 128]   262.656k   \n",
      "23_coupling_transforms.7.Conv1d_0   [512, 512, 1]   [1, 512, 128]   262.656k   \n",
      "24_coupling_transforms.8.Conv1d_0   [512, 512, 1]   [1, 512, 128]   262.656k   \n",
      "25_coupling_transforms.9.Conv1d_0   [512, 512, 1]   [1, 512, 128]   262.656k   \n",
      "26_coupling_transforms.10.Conv1d_0  [512, 512, 1]   [1, 512, 128]   262.656k   \n",
      "27_coupling_transforms.11.Conv1d_0  [512, 512, 1]   [1, 512, 128]   262.656k   \n",
      "\n",
      "                                       Mult-Adds  \n",
      "Layer                                             \n",
      "0_convolutions.Conv1d_0                 20.9664M  \n",
      "1_convolutions.ReLU_1                          -  \n",
      "2_convolutions.BatchNorm1d_2               512.0  \n",
      "3_convolutions.Conv1d_3             2.145386496G  \n",
      "4_convolutions.ReLU_4                          -  \n",
      "5_convolutions.BatchNorm1d_5               512.0  \n",
      "6_convolutions.Conv1d_6              536.870912M  \n",
      "7_convolutions.ReLU_7                          -  \n",
      "8_convolutions.BatchNorm1d_8               512.0  \n",
      "9_convolutions.Conv1d_9              269.484032M  \n",
      "10_convolutions.ReLU_10                        -  \n",
      "11_convolutions.BatchNorm1d_11             512.0  \n",
      "12_convolutions.Conv1d_12            134.217728M  \n",
      "13_convolutions.ReLU_13                        -  \n",
      "14_convolutions.BatchNorm1d_14             512.0  \n",
      "15_autoregressor                        589.824k  \n",
      "16_coupling_transforms.0.Conv1d_0     33.554432M  \n",
      "17_coupling_transforms.1.Conv1d_0     33.554432M  \n",
      "18_coupling_transforms.2.Conv1d_0     33.554432M  \n",
      "19_coupling_transforms.3.Conv1d_0     33.554432M  \n",
      "20_coupling_transforms.4.Conv1d_0     33.554432M  \n",
      "21_coupling_transforms.5.Conv1d_0     33.554432M  \n",
      "22_coupling_transforms.6.Conv1d_0     33.554432M  \n",
      "23_coupling_transforms.7.Conv1d_0     33.554432M  \n",
      "24_coupling_transforms.8.Conv1d_0     33.554432M  \n",
      "25_coupling_transforms.9.Conv1d_0     33.554432M  \n",
      "26_coupling_transforms.10.Conv1d_0    33.554432M  \n",
      "27_coupling_transforms.11.Conv1d_0    33.554432M  \n",
      "------------------------------------------------------------------------------------------\n",
      "                            Totals\n",
      "Total params             8.998912M\n",
      "Trainable params         8.998912M\n",
      "Non-trainable params           0.0\n",
      "Mult-Adds             3.510171136G\n",
      "==========================================================================================\n"
     ]
    }
   ],
   "source": [
    "t = ds[1][1].unsqueeze(0).unsqueeze(0)\n",
    "f = summary(model, t.cuda())"
   ]
  },
  {
   "cell_type": "markdown",
   "metadata": {},
   "source": [
    "# training"
   ]
  },
  {
   "cell_type": "code",
   "execution_count": null,
   "metadata": {},
   "outputs": [],
   "source": []
  },
  {
   "cell_type": "code",
   "execution_count": null,
   "metadata": {},
   "outputs": [],
   "source": []
  },
  {
   "cell_type": "code",
   "execution_count": null,
   "metadata": {},
   "outputs": [],
   "source": []
  },
  {
   "cell_type": "code",
   "execution_count": null,
   "metadata": {},
   "outputs": [],
   "source": []
  },
  {
   "cell_type": "code",
   "execution_count": null,
   "metadata": {},
   "outputs": [],
   "source": []
  },
  {
   "cell_type": "code",
   "execution_count": 1,
   "metadata": {},
   "outputs": [],
   "source": [
    "import os"
   ]
  },
  {
   "cell_type": "code",
   "execution_count": 3,
   "metadata": {},
   "outputs": [],
   "source": []
  },
  {
   "cell_type": "code",
   "execution_count": null,
   "metadata": {},
   "outputs": [],
   "source": []
  },
  {
   "cell_type": "code",
   "execution_count": null,
   "metadata": {},
   "outputs": [],
   "source": [
    "lds = torchaudio.datasets.LIBRISPEECH('/data/deepvk/librispeech/train-clean-100/', url='train-clean-100')"
   ]
  }
 ],
 "metadata": {
  "kernelspec": {
   "display_name": "Python 3",
   "language": "python",
   "name": "python3"
  },
  "language_info": {
   "codemirror_mode": {
    "name": "ipython",
    "version": 3
   },
   "file_extension": ".py",
   "mimetype": "text/x-python",
   "name": "python",
   "nbconvert_exporter": "python",
   "pygments_lexer": "ipython3",
   "version": "3.6.9"
  }
 },
 "nbformat": 4,
 "nbformat_minor": 4
}
