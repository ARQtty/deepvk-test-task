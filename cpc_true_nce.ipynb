{
 "cells": [
  {
   "cell_type": "code",
   "execution_count": 1,
   "metadata": {},
   "outputs": [],
   "source": [
    "import os\n",
    "from datetime import datetime as dt\n",
    "from random import randint\n",
    "from collections import defaultdict\n",
    "import matplotlib.pyplot as plt\n",
    "%matplotlib inline\n",
    "plt.style.use('dark_background')\n",
    "\n",
    "import torchaudio\n",
    "import torch\n",
    "import torch.nn as nn\n",
    "import torch.nn.functional as F\n",
    "from sklearn.model_selection import train_test_split\n",
    "from tensorboardX import SummaryWriter\n",
    "from torchsummaryX import summary\n",
    "\n",
    "from hparams import Hparam\n",
    "from data.dataset import SpeechDataset\n",
    "from CPC_true_NCE.model import CPCModel_NCE\n",
    "# from CPC_classifiers.speaker_model import SpeakerClassificationCPC"
   ]
  },
  {
   "cell_type": "code",
   "execution_count": 2,
   "metadata": {},
   "outputs": [],
   "source": [
    "config = Hparam('./CPC_true_NCE/config.yaml')\n",
    "# config.train.device = 'cpu'\n",
    "gettime = lambda: str(dt.time(dt.now()))[:8]"
   ]
  },
  {
   "cell_type": "code",
   "execution_count": null,
   "metadata": {},
   "outputs": [],
   "source": []
  },
  {
   "cell_type": "markdown",
   "metadata": {},
   "source": [
    "## model"
   ]
  },
  {
   "cell_type": "code",
   "execution_count": 3,
   "metadata": {},
   "outputs": [
    {
     "name": "stderr",
     "output_type": "stream",
     "text": [
      "100%|██████████| 2703/2703 [00:04<00:00, 566.00it/s]\n"
     ]
    }
   ],
   "source": [
    "ds = SpeechDataset(config.data.path)\n",
    "train_ds, test_ds = train_test_split(ds, test_size=0.2)"
   ]
  },
  {
   "cell_type": "code",
   "execution_count": 4,
   "metadata": {},
   "outputs": [],
   "source": [
    "model = CPCModel_NCE(config).to(config.train.device)"
   ]
  },
  {
   "cell_type": "code",
   "execution_count": 5,
   "metadata": {},
   "outputs": [
    {
     "data": {
      "text/plain": [
       "torch.Size([4, 1, 20480])"
      ]
     },
     "execution_count": 5,
     "metadata": {},
     "output_type": "execute_result"
    }
   ],
   "source": [
    "sample = ds[27][1].unsqueeze(0).unsqueeze(0).expand(4, 1, 20480).to(config.train.device)\n",
    "sample.size()"
   ]
  },
  {
   "cell_type": "code",
   "execution_count": 6,
   "metadata": {},
   "outputs": [
    {
     "name": "stdout",
     "output_type": "stream",
     "text": [
      "fk torch.Size([2032, 1]) ans torch.Size([2032, 1])\n",
      "fk torch.Size([2016, 1]) ans torch.Size([2016, 1])\n",
      "fk torch.Size([2000, 1]) ans torch.Size([2000, 1])\n",
      "fk torch.Size([1984, 1]) ans torch.Size([1984, 1])\n",
      "fk torch.Size([1968, 1]) ans torch.Size([1968, 1])\n",
      "fk torch.Size([1952, 1]) ans torch.Size([1952, 1])\n",
      "fk torch.Size([1936, 1]) ans torch.Size([1936, 1])\n",
      "fk torch.Size([1920, 1]) ans torch.Size([1920, 1])\n",
      "fk torch.Size([1904, 1]) ans torch.Size([1904, 1])\n",
      "fk torch.Size([1888, 1]) ans torch.Size([1888, 1])\n",
      "fk torch.Size([1872, 1]) ans torch.Size([1872, 1])\n",
      "fk torch.Size([1856, 1]) ans torch.Size([1856, 1])\n",
      "logits [torch.Size([2032, 1]), torch.Size([2016, 1]), torch.Size([2000, 1]), torch.Size([1984, 1]), torch.Size([1968, 1]), torch.Size([1952, 1]), torch.Size([1936, 1]), torch.Size([1920, 1]), torch.Size([1904, 1]), torch.Size([1888, 1]), torch.Size([1872, 1]), torch.Size([1856, 1])]\n"
     ]
    }
   ],
   "source": [
    "with torch.no_grad():\n",
    "    logits, labels = model(sample)\n",
    "\n",
    "print('logits', [t.size() for t in logits])"
   ]
  },
  {
   "cell_type": "code",
   "execution_count": 7,
   "metadata": {},
   "outputs": [],
   "source": [
    "logs = logits[0]\n",
    "labs = labels[0]"
   ]
  },
  {
   "cell_type": "code",
   "execution_count": 8,
   "metadata": {},
   "outputs": [
    {
     "data": {
      "text/plain": [
       "(torch.Size([2032, 1]), torch.Size([2032, 1]))"
      ]
     },
     "execution_count": 8,
     "metadata": {},
     "output_type": "execute_result"
    }
   ],
   "source": [
    "logs.size(), labs.size()"
   ]
  },
  {
   "cell_type": "code",
   "execution_count": 11,
   "metadata": {},
   "outputs": [
    {
     "data": {
      "text/plain": [
       "torch.Size([2032, 1])"
      ]
     },
     "execution_count": 11,
     "metadata": {},
     "output_type": "execute_result"
    }
   ],
   "source": [
    "logs.size()"
   ]
  },
  {
   "cell_type": "code",
   "execution_count": 14,
   "metadata": {},
   "outputs": [],
   "source": []
  },
  {
   "cell_type": "code",
   "execution_count": 15,
   "metadata": {},
   "outputs": [
    {
     "data": {
      "text/plain": [
       "0.5178043689420713"
      ]
     },
     "execution_count": 15,
     "metadata": {},
     "output_type": "execute_result"
    }
   ],
   "source": [
    "\n",
    "\n",
    "roc_auc_score(to_numpy(labs), to_numpy(logs))"
   ]
  },
  {
   "cell_type": "code",
   "execution_count": 32,
   "metadata": {},
   "outputs": [
    {
     "data": {
      "text/plain": [
       "0.6299212598425197"
      ]
     },
     "execution_count": 32,
     "metadata": {},
     "output_type": "execute_result"
    }
   ],
   "source": [
    "labls = (to_numpy(logs) > 0.5).astype(int)\n",
    "accuracy_score(to_numpy(labs), labls)"
   ]
  },
  {
   "cell_type": "code",
   "execution_count": null,
   "metadata": {},
   "outputs": [],
   "source": []
  }
 ],
 "metadata": {
  "kernelspec": {
   "display_name": "Python 3",
   "language": "python",
   "name": "python3"
  },
  "language_info": {
   "codemirror_mode": {
    "name": "ipython",
    "version": 3
   },
   "file_extension": ".py",
   "mimetype": "text/x-python",
   "name": "python",
   "nbconvert_exporter": "python",
   "pygments_lexer": "ipython3",
   "version": "3.6.9"
  }
 },
 "nbformat": 4,
 "nbformat_minor": 4
}
